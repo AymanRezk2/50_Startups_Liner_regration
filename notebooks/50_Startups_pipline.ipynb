{
  "cells": [
    {
      "cell_type": "code",
      "execution_count": null,
      "metadata": {
        "id": "24fftH5l7uiv"
      },
      "outputs": [],
      "source": [
        "import pandas as pd\n",
        "import seaborn as sns\n",
        "import matplotlib.pyplot as plt\n",
        "\n",
        "from sklearn.pipeline import Pipeline\n",
        "from sklearn.impute import SimpleImputer\n",
        "from sklearn.compose import ColumnTransformer\n",
        "from sklearn.linear_model import LinearRegression\n",
        "from sklearn.model_selection import train_test_split\n",
        "from sklearn.metrics import mean_squared_error, r2_score, mean_absolute_error\n",
        "from sklearn.preprocessing import StandardScaler, OrdinalEncoder"
      ]
    },
    {
      "cell_type": "markdown",
      "metadata": {
        "id": "XkfYopXVIub7"
      },
      "source": [
        "###  **Lode data**"
      ]
    },
    {
      "cell_type": "code",
      "execution_count": null,
      "metadata": {
        "colab": {
          "base_uri": "https://localhost:8080/",
          "height": 363
        },
        "id": "lw-biikSONZK",
        "outputId": "ec854bcf-98f1-496b-a4f2-81e1ee10a518"
      },
      "outputs": [],
      "source": [
        "data_path = r\"/content/drive/MyDrive/ML_Datasets/50_Startups.csv\"\n",
        "df = pd.read_csv(data_path)\n",
        "df.head(10)"
      ]
    },
    {
      "cell_type": "code",
      "execution_count": null,
      "metadata": {
        "id": "zJZ4ljfjJbWL"
      },
      "outputs": [],
      "source": [
        "# seprit data\n",
        "X = df.iloc[:, :-1]\n",
        "y = df.iloc[:, -1]\n",
        "\n",
        "x_train, x_test, y_train, y_test = train_test_split(X, y, test_size=0.2, random_state=42)\n",
        "\n",
        "df = x_train.copy()\n",
        "df['Profit'] = y_train"
      ]
    },
    {
      "cell_type": "markdown",
      "metadata": {
        "id": "kUKCesh8I7kr"
      },
      "source": [
        "## Data exploering"
      ]
    },
    {
      "cell_type": "code",
      "execution_count": null,
      "metadata": {
        "colab": {
          "base_uri": "https://localhost:8080/"
        },
        "id": "pgd6sY-g96od",
        "outputId": "eac2e1ff-68b6-4a2c-e572-99bd257df2c8"
      },
      "outputs": [],
      "source": [
        "df.info()"
      ]
    },
    {
      "cell_type": "code",
      "execution_count": null,
      "metadata": {
        "colab": {
          "base_uri": "https://localhost:8080/",
          "height": 300
        },
        "id": "L3BirAY_BGKq",
        "outputId": "e548fdd5-d6a1-4886-bf35-fd05adb04702"
      },
      "outputs": [],
      "source": [
        "df.describe()"
      ]
    },
    {
      "cell_type": "code",
      "execution_count": null,
      "metadata": {
        "colab": {
          "base_uri": "https://localhost:8080/"
        },
        "id": "SjW-zSd2B6hq",
        "outputId": "de7778f8-697f-4929-e446-e62350ca8fa0"
      },
      "outputs": [],
      "source": [
        "df['State'].unique()"
      ]
    },
    {
      "cell_type": "code",
      "execution_count": null,
      "metadata": {
        "colab": {
          "base_uri": "https://localhost:8080/",
          "height": 699
        },
        "id": "TitIg8INQmuW",
        "outputId": "b43aac56-4c9d-4f1c-c57a-eb04f319da83"
      },
      "outputs": [],
      "source": [
        "# Calculate correlation matrix\n",
        "corr = df.corr(numeric_only=True)\n",
        "\n",
        "# Plot heatmap\n",
        "plt.figure(figsize=(10, 8))\n",
        "sns.heatmap(corr, annot=True, cmap='inferno', fmt=\".2f\")\n",
        "plt.title(\"Feature Correlation Heatmap\")\n",
        "plt.show()"
      ]
    },
    {
      "cell_type": "markdown",
      "metadata": {
        "id": "3D9aJcOTJHXL"
      },
      "source": [
        "----------"
      ]
    },
    {
      "cell_type": "code",
      "execution_count": null,
      "metadata": {
        "id": "YL38UQksF9do"
      },
      "outputs": [],
      "source": [
        "# Features and target\n",
        "x = df.iloc[:, :-1]\n",
        "y = df.iloc[:,[-1]]"
      ]
    },
    {
      "cell_type": "code",
      "execution_count": null,
      "metadata": {
        "colab": {
          "base_uri": "https://localhost:8080/"
        },
        "id": "WH_oQRQGRfvP",
        "outputId": "d931181c-e36f-4d05-c6e3-15fa695c8d6d"
      },
      "outputs": [],
      "source": [
        "x.shape, y.shape"
      ]
    },
    {
      "cell_type": "code",
      "execution_count": null,
      "metadata": {
        "colab": {
          "base_uri": "https://localhost:8080/"
        },
        "id": "C_FHulMUSltG",
        "outputId": "38f882af-d444-414a-beb9-ed2bac3b08f4"
      },
      "outputs": [],
      "source": [
        "type(x), type(y)"
      ]
    },
    {
      "cell_type": "markdown",
      "metadata": {},
      "source": [
        "## Pipline"
      ]
    },
    {
      "cell_type": "code",
      "execution_count": null,
      "metadata": {
        "id": "CkRzwUIGTqul"
      },
      "outputs": [],
      "source": [
        "num_cols = x.select_dtypes(include=[\"float64\"]).columns\n",
        "cat_cols = x.select_dtypes(include=['object']).columns"
      ]
    },
    {
      "cell_type": "code",
      "execution_count": null,
      "metadata": {
        "id": "4SwOzcISLB6z"
      },
      "outputs": [],
      "source": [
        "# start pipline\n",
        "num_pipline = Pipeline([\n",
        "    ('imputer', SimpleImputer(strategy=\"mean\")),\n",
        "    ('scaler', StandardScaler())\n",
        "])\n",
        "\n",
        "cat_pipline = Pipeline([\n",
        "    ('imputer', SimpleImputer(strategy=\"most_frequent\")),\n",
        "    ('encoder', OrdinalEncoder())\n",
        "])"
      ]
    },
    {
      "cell_type": "code",
      "execution_count": null,
      "metadata": {
        "id": "T98TRafiOsWo"
      },
      "outputs": [],
      "source": [
        "# Joine the 2 pipline\n",
        "preprocessor = ColumnTransformer([\n",
        "    ('num', num_pipline, num_cols), #--------------------.COLMAN\n",
        "    ('cat', cat_pipline, cat_cols)\n",
        "])\n",
        "\n",
        "pipeline = Pipeline([\n",
        "    ('preprocessor', preprocessor),\n",
        "    ('model', LinearRegression())\n",
        "])"
      ]
    },
    {
      "cell_type": "markdown",
      "metadata": {},
      "source": [
        "## Train the model"
      ]
    },
    {
      "cell_type": "code",
      "execution_count": null,
      "metadata": {
        "colab": {
          "base_uri": "https://localhost:8080/",
          "height": 286
        },
        "id": "4ZwIz6OLU3Bk",
        "outputId": "d16781e2-a12e-4acb-a1eb-32d97ff4bfeb"
      },
      "outputs": [],
      "source": [
        "pipeline.fit(x, y)"
      ]
    },
    {
      "cell_type": "markdown",
      "metadata": {},
      "source": [
        "## predict the model"
      ]
    },
    {
      "cell_type": "code",
      "execution_count": null,
      "metadata": {
        "id": "MygY31bdU5RM"
      },
      "outputs": [],
      "source": [
        "# predict the model\n",
        "y_predict = pipeline.predict(x_test)"
      ]
    },
    {
      "cell_type": "markdown",
      "metadata": {},
      "source": [
        "## Evaluate model"
      ]
    },
    {
      "cell_type": "code",
      "execution_count": null,
      "metadata": {
        "colab": {
          "base_uri": "https://localhost:8080/"
        },
        "id": "fIoCS891V16N",
        "outputId": "52e28e92-38b9-4e2d-936e-96790127c2f7"
      },
      "outputs": [],
      "source": [
        "# Evaluate model accuarcy\n",
        "mse = mean_squared_error(y_test, y_predict)\n",
        "r2 = r2_score(y_test, y_predict)\n",
        "mae = mean_absolute_error(y_test, y_predict)\n",
        "\n",
        "print(\"Mean Squared Error:\", mse)\n",
        "print(\"R-squared:\", r2)\n",
        "print(\"Mean Absolute Error:\", mae)"
      ]
    },
    {
      "cell_type": "code",
      "execution_count": null,
      "metadata": {
        "colab": {
          "base_uri": "https://localhost:8080/",
          "height": 564
        },
        "id": "bvWc2VkAX-Cr",
        "outputId": "bcb0004c-eaf1-4307-b6d3-478d39a70d94"
      },
      "outputs": [],
      "source": [
        "plt.figure(figsize=(10,6))\n",
        "plt.plot(range(len(y_test)), y_test.values, label='Actual', marker='o')\n",
        "plt.plot(range(len(y_predict)), y_predict, label='Predicted', marker='x')\n",
        "plt.title('Actual vs Predicted Profit')\n",
        "plt.xlabel('Sample Index')\n",
        "plt.ylabel('Profit')\n",
        "plt.legend()\n",
        "plt.show()\n"
      ]
    },
    {
      "cell_type": "code",
      "execution_count": null,
      "metadata": {
        "colab": {
          "base_uri": "https://localhost:8080/",
          "height": 564
        },
        "id": "giZD68VUW4zb",
        "outputId": "86e21363-41e8-45b8-f2c4-cffc2a790e26"
      },
      "outputs": [],
      "source": [
        "# Scatter plot: Actual vs Predicted\n",
        "plt.figure(figsize=(8, 6))\n",
        "plt.scatter(y_test, y_predict, color='blue', edgecolors='k')\n",
        "plt.plot([y_test.min(), y_test.max()],\n",
        "         [y_test.min(), y_test.max()],\n",
        "         'r-', lw=2)  # perfect prediction line\n",
        "\n",
        "plt.xlabel(\"Actual Profit\")\n",
        "plt.ylabel(\"Predicted Profit\")\n",
        "plt.title(\"Actual vs Predicted Profit\")\n",
        "plt.show()"
      ]
    },
    {
      "cell_type": "code",
      "execution_count": null,
      "metadata": {
        "id": "MVIM8Y6WZAI6"
      },
      "outputs": [],
      "source": []
    }
  ],
  "metadata": {
    "colab": {
      "provenance": []
    },
    "kernelspec": {
      "display_name": "Python 3",
      "name": "python3"
    },
    "language_info": {
      "name": "python",
      "version": "3.12.0"
    }
  },
  "nbformat": 4,
  "nbformat_minor": 0
}
